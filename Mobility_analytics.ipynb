{
 "cells": [
  {
   "cell_type": "code",
   "execution_count": 1,
   "metadata": {},
   "outputs": [],
   "source": [
    "import numpy as np\n",
    "import pandas as pd\n",
    "\n",
    "train = pd.read_csv('train.csv', parse_dates=True)\n",
    "test = pd.read_csv('test.csv', parse_dates=True)\n",
    "sub = pd.read_csv('sub.csv')"
   ]
  },
  {
   "cell_type": "code",
   "execution_count": 2,
   "metadata": {},
   "outputs": [
    {
     "name": "stdout",
     "output_type": "stream",
     "text": [
      "(131662, 14)\n",
      "(87395, 13)\n",
      "(87395, 2)\n"
     ]
    }
   ],
   "source": [
    "print(train.shape)\n",
    "print(test.shape)\n",
    "print(sub.shape)"
   ]
  },
  {
   "cell_type": "code",
   "execution_count": 3,
   "metadata": {},
   "outputs": [
    {
     "data": {
      "text/html": [
       "<div>\n",
       "<style scoped>\n",
       "    .dataframe tbody tr th:only-of-type {\n",
       "        vertical-align: middle;\n",
       "    }\n",
       "\n",
       "    .dataframe tbody tr th {\n",
       "        vertical-align: top;\n",
       "    }\n",
       "\n",
       "    .dataframe thead th {\n",
       "        text-align: right;\n",
       "    }\n",
       "</style>\n",
       "<table border=\"1\" class=\"dataframe\">\n",
       "  <thead>\n",
       "    <tr style=\"text-align: right;\">\n",
       "      <th></th>\n",
       "      <th>Trip_Distance</th>\n",
       "      <th>Customer_Since_Months</th>\n",
       "      <th>Life_Style_Index</th>\n",
       "      <th>Customer_Rating</th>\n",
       "      <th>Cancellation_Last_1Month</th>\n",
       "      <th>Var1</th>\n",
       "      <th>Var2</th>\n",
       "      <th>Var3</th>\n",
       "      <th>Surge_Pricing_Type</th>\n",
       "    </tr>\n",
       "  </thead>\n",
       "  <tbody>\n",
       "    <tr>\n",
       "      <td>count</td>\n",
       "      <td>131662.000000</td>\n",
       "      <td>125742.000000</td>\n",
       "      <td>111469.000000</td>\n",
       "      <td>131662.000000</td>\n",
       "      <td>131662.000000</td>\n",
       "      <td>60632.000000</td>\n",
       "      <td>131662.000000</td>\n",
       "      <td>131662.000000</td>\n",
       "      <td>131662.000000</td>\n",
       "    </tr>\n",
       "    <tr>\n",
       "      <td>mean</td>\n",
       "      <td>44.200909</td>\n",
       "      <td>6.016661</td>\n",
       "      <td>2.802064</td>\n",
       "      <td>2.849458</td>\n",
       "      <td>0.782838</td>\n",
       "      <td>64.202698</td>\n",
       "      <td>51.202800</td>\n",
       "      <td>75.099019</td>\n",
       "      <td>2.155747</td>\n",
       "    </tr>\n",
       "    <tr>\n",
       "      <td>std</td>\n",
       "      <td>25.522882</td>\n",
       "      <td>3.626887</td>\n",
       "      <td>0.225796</td>\n",
       "      <td>0.980675</td>\n",
       "      <td>1.037559</td>\n",
       "      <td>21.820447</td>\n",
       "      <td>4.986142</td>\n",
       "      <td>11.578278</td>\n",
       "      <td>0.738164</td>\n",
       "    </tr>\n",
       "    <tr>\n",
       "      <td>min</td>\n",
       "      <td>0.310000</td>\n",
       "      <td>0.000000</td>\n",
       "      <td>1.596380</td>\n",
       "      <td>0.001250</td>\n",
       "      <td>0.000000</td>\n",
       "      <td>30.000000</td>\n",
       "      <td>40.000000</td>\n",
       "      <td>52.000000</td>\n",
       "      <td>1.000000</td>\n",
       "    </tr>\n",
       "    <tr>\n",
       "      <td>25%</td>\n",
       "      <td>24.580000</td>\n",
       "      <td>3.000000</td>\n",
       "      <td>2.654730</td>\n",
       "      <td>2.152500</td>\n",
       "      <td>0.000000</td>\n",
       "      <td>46.000000</td>\n",
       "      <td>48.000000</td>\n",
       "      <td>67.000000</td>\n",
       "      <td>2.000000</td>\n",
       "    </tr>\n",
       "    <tr>\n",
       "      <td>50%</td>\n",
       "      <td>38.200000</td>\n",
       "      <td>6.000000</td>\n",
       "      <td>2.798050</td>\n",
       "      <td>2.895000</td>\n",
       "      <td>0.000000</td>\n",
       "      <td>61.000000</td>\n",
       "      <td>50.000000</td>\n",
       "      <td>74.000000</td>\n",
       "      <td>2.000000</td>\n",
       "    </tr>\n",
       "    <tr>\n",
       "      <td>75%</td>\n",
       "      <td>60.730000</td>\n",
       "      <td>10.000000</td>\n",
       "      <td>2.946780</td>\n",
       "      <td>3.582500</td>\n",
       "      <td>1.000000</td>\n",
       "      <td>80.000000</td>\n",
       "      <td>54.000000</td>\n",
       "      <td>82.000000</td>\n",
       "      <td>3.000000</td>\n",
       "    </tr>\n",
       "    <tr>\n",
       "      <td>max</td>\n",
       "      <td>109.230000</td>\n",
       "      <td>10.000000</td>\n",
       "      <td>4.875110</td>\n",
       "      <td>5.000000</td>\n",
       "      <td>8.000000</td>\n",
       "      <td>210.000000</td>\n",
       "      <td>124.000000</td>\n",
       "      <td>206.000000</td>\n",
       "      <td>3.000000</td>\n",
       "    </tr>\n",
       "  </tbody>\n",
       "</table>\n",
       "</div>"
      ],
      "text/plain": [
       "       Trip_Distance  Customer_Since_Months  Life_Style_Index  \\\n",
       "count  131662.000000          125742.000000     111469.000000   \n",
       "mean       44.200909               6.016661          2.802064   \n",
       "std        25.522882               3.626887          0.225796   \n",
       "min         0.310000               0.000000          1.596380   \n",
       "25%        24.580000               3.000000          2.654730   \n",
       "50%        38.200000               6.000000          2.798050   \n",
       "75%        60.730000              10.000000          2.946780   \n",
       "max       109.230000              10.000000          4.875110   \n",
       "\n",
       "       Customer_Rating  Cancellation_Last_1Month          Var1           Var2  \\\n",
       "count    131662.000000             131662.000000  60632.000000  131662.000000   \n",
       "mean          2.849458                  0.782838     64.202698      51.202800   \n",
       "std           0.980675                  1.037559     21.820447       4.986142   \n",
       "min           0.001250                  0.000000     30.000000      40.000000   \n",
       "25%           2.152500                  0.000000     46.000000      48.000000   \n",
       "50%           2.895000                  0.000000     61.000000      50.000000   \n",
       "75%           3.582500                  1.000000     80.000000      54.000000   \n",
       "max           5.000000                  8.000000    210.000000     124.000000   \n",
       "\n",
       "                Var3  Surge_Pricing_Type  \n",
       "count  131662.000000       131662.000000  \n",
       "mean       75.099019            2.155747  \n",
       "std        11.578278            0.738164  \n",
       "min        52.000000            1.000000  \n",
       "25%        67.000000            2.000000  \n",
       "50%        74.000000            2.000000  \n",
       "75%        82.000000            3.000000  \n",
       "max       206.000000            3.000000  "
      ]
     },
     "execution_count": 3,
     "metadata": {},
     "output_type": "execute_result"
    }
   ],
   "source": [
    "train.describe()"
   ]
  },
  {
   "cell_type": "code",
   "execution_count": 4,
   "metadata": {},
   "outputs": [
    {
     "data": {
      "text/html": [
       "<div>\n",
       "<style scoped>\n",
       "    .dataframe tbody tr th:only-of-type {\n",
       "        vertical-align: middle;\n",
       "    }\n",
       "\n",
       "    .dataframe tbody tr th {\n",
       "        vertical-align: top;\n",
       "    }\n",
       "\n",
       "    .dataframe thead th {\n",
       "        text-align: right;\n",
       "    }\n",
       "</style>\n",
       "<table border=\"1\" class=\"dataframe\">\n",
       "  <thead>\n",
       "    <tr style=\"text-align: right;\">\n",
       "      <th></th>\n",
       "      <th>Trip_Distance</th>\n",
       "      <th>Customer_Since_Months</th>\n",
       "      <th>Life_Style_Index</th>\n",
       "      <th>Customer_Rating</th>\n",
       "      <th>Cancellation_Last_1Month</th>\n",
       "      <th>Var1</th>\n",
       "      <th>Var2</th>\n",
       "      <th>Var3</th>\n",
       "    </tr>\n",
       "  </thead>\n",
       "  <tbody>\n",
       "    <tr>\n",
       "      <td>count</td>\n",
       "      <td>87395.000000</td>\n",
       "      <td>83429.000000</td>\n",
       "      <td>74068.000000</td>\n",
       "      <td>87395.000000</td>\n",
       "      <td>87395.000000</td>\n",
       "      <td>40606.000000</td>\n",
       "      <td>87395.000000</td>\n",
       "      <td>87395.000000</td>\n",
       "    </tr>\n",
       "    <tr>\n",
       "      <td>mean</td>\n",
       "      <td>44.095174</td>\n",
       "      <td>5.990051</td>\n",
       "      <td>2.803392</td>\n",
       "      <td>2.847389</td>\n",
       "      <td>0.783031</td>\n",
       "      <td>63.936610</td>\n",
       "      <td>51.162160</td>\n",
       "      <td>75.015699</td>\n",
       "    </tr>\n",
       "    <tr>\n",
       "      <td>std</td>\n",
       "      <td>25.483993</td>\n",
       "      <td>3.626861</td>\n",
       "      <td>0.227113</td>\n",
       "      <td>0.981744</td>\n",
       "      <td>1.034266</td>\n",
       "      <td>21.636247</td>\n",
       "      <td>4.956831</td>\n",
       "      <td>11.582761</td>\n",
       "    </tr>\n",
       "    <tr>\n",
       "      <td>min</td>\n",
       "      <td>1.550000</td>\n",
       "      <td>0.000000</td>\n",
       "      <td>1.317850</td>\n",
       "      <td>0.001250</td>\n",
       "      <td>0.000000</td>\n",
       "      <td>30.000000</td>\n",
       "      <td>41.000000</td>\n",
       "      <td>52.000000</td>\n",
       "    </tr>\n",
       "    <tr>\n",
       "      <td>25%</td>\n",
       "      <td>24.540000</td>\n",
       "      <td>3.000000</td>\n",
       "      <td>2.654518</td>\n",
       "      <td>2.152500</td>\n",
       "      <td>0.000000</td>\n",
       "      <td>45.000000</td>\n",
       "      <td>48.000000</td>\n",
       "      <td>67.000000</td>\n",
       "    </tr>\n",
       "    <tr>\n",
       "      <td>50%</td>\n",
       "      <td>38.060000</td>\n",
       "      <td>6.000000</td>\n",
       "      <td>2.798630</td>\n",
       "      <td>2.895000</td>\n",
       "      <td>0.000000</td>\n",
       "      <td>61.000000</td>\n",
       "      <td>50.000000</td>\n",
       "      <td>73.000000</td>\n",
       "    </tr>\n",
       "    <tr>\n",
       "      <td>75%</td>\n",
       "      <td>60.690000</td>\n",
       "      <td>10.000000</td>\n",
       "      <td>2.949053</td>\n",
       "      <td>3.580000</td>\n",
       "      <td>1.000000</td>\n",
       "      <td>79.000000</td>\n",
       "      <td>54.000000</td>\n",
       "      <td>82.000000</td>\n",
       "    </tr>\n",
       "    <tr>\n",
       "      <td>max</td>\n",
       "      <td>109.230000</td>\n",
       "      <td>10.000000</td>\n",
       "      <td>4.871920</td>\n",
       "      <td>5.000000</td>\n",
       "      <td>8.000000</td>\n",
       "      <td>178.000000</td>\n",
       "      <td>116.000000</td>\n",
       "      <td>169.000000</td>\n",
       "    </tr>\n",
       "  </tbody>\n",
       "</table>\n",
       "</div>"
      ],
      "text/plain": [
       "       Trip_Distance  Customer_Since_Months  Life_Style_Index  \\\n",
       "count   87395.000000           83429.000000      74068.000000   \n",
       "mean       44.095174               5.990051          2.803392   \n",
       "std        25.483993               3.626861          0.227113   \n",
       "min         1.550000               0.000000          1.317850   \n",
       "25%        24.540000               3.000000          2.654518   \n",
       "50%        38.060000               6.000000          2.798630   \n",
       "75%        60.690000              10.000000          2.949053   \n",
       "max       109.230000              10.000000          4.871920   \n",
       "\n",
       "       Customer_Rating  Cancellation_Last_1Month          Var1          Var2  \\\n",
       "count     87395.000000              87395.000000  40606.000000  87395.000000   \n",
       "mean          2.847389                  0.783031     63.936610     51.162160   \n",
       "std           0.981744                  1.034266     21.636247      4.956831   \n",
       "min           0.001250                  0.000000     30.000000     41.000000   \n",
       "25%           2.152500                  0.000000     45.000000     48.000000   \n",
       "50%           2.895000                  0.000000     61.000000     50.000000   \n",
       "75%           3.580000                  1.000000     79.000000     54.000000   \n",
       "max           5.000000                  8.000000    178.000000    116.000000   \n",
       "\n",
       "               Var3  \n",
       "count  87395.000000  \n",
       "mean      75.015699  \n",
       "std       11.582761  \n",
       "min       52.000000  \n",
       "25%       67.000000  \n",
       "50%       73.000000  \n",
       "75%       82.000000  \n",
       "max      169.000000  "
      ]
     },
     "execution_count": 4,
     "metadata": {},
     "output_type": "execute_result"
    }
   ],
   "source": [
    "test.describe()"
   ]
  },
  {
   "cell_type": "code",
   "execution_count": 5,
   "metadata": {},
   "outputs": [],
   "source": [
    "train.Surge_Pricing_Type=train.Surge_Pricing_Type.astype('category')"
   ]
  },
  {
   "cell_type": "code",
   "execution_count": 6,
   "metadata": {},
   "outputs": [
    {
     "name": "stdout",
     "output_type": "stream",
     "text": [
      "Total Features with NaN Values in train = 5\n",
      "Total Features with NaN Values in test = 5\n"
     ]
    }
   ],
   "source": [
    "print(\"Total Features with NaN Values in train = \" + str(train.columns[train.isnull().sum() != 0].size)) \n",
    "print(\"Total Features with NaN Values in test = \" + str(test.columns[test.isnull().sum() != 0].size))"
   ]
  },
  {
   "cell_type": "code",
   "execution_count": 7,
   "metadata": {},
   "outputs": [
    {
     "data": {
      "text/plain": [
       "Trip_ID                            0\n",
       "Trip_Distance                      0\n",
       "Type_of_Cab                    20210\n",
       "Customer_Since_Months           5920\n",
       "Life_Style_Index               20193\n",
       "Confidence_Life_Style_Index    20193\n",
       "Destination_Type                   0\n",
       "Customer_Rating                    0\n",
       "Cancellation_Last_1Month           0\n",
       "Var1                           71030\n",
       "Var2                               0\n",
       "Var3                               0\n",
       "Gender                             0\n",
       "Surge_Pricing_Type                 0\n",
       "dtype: int64"
      ]
     },
     "execution_count": 7,
     "metadata": {},
     "output_type": "execute_result"
    }
   ],
   "source": [
    "len(train)-train.count()"
   ]
  },
  {
   "cell_type": "code",
   "execution_count": 8,
   "metadata": {},
   "outputs": [
    {
     "data": {
      "text/plain": [
       "Trip_ID                         0.00\n",
       "Trip_Distance                   0.00\n",
       "Type_of_Cab                    15.35\n",
       "Customer_Since_Months           4.50\n",
       "Life_Style_Index               15.34\n",
       "Confidence_Life_Style_Index    15.34\n",
       "Destination_Type                0.00\n",
       "Customer_Rating                 0.00\n",
       "Cancellation_Last_1Month        0.00\n",
       "Var1                           53.95\n",
       "Var2                            0.00\n",
       "Var3                            0.00\n",
       "Gender                          0.00\n",
       "Surge_Pricing_Type              0.00\n",
       "dtype: float64"
      ]
     },
     "execution_count": 8,
     "metadata": {},
     "output_type": "execute_result"
    }
   ],
   "source": [
    "### Percentage of Null value in train dataset\n",
    "train.isna().mean().round(4) * 100"
   ]
  },
  {
   "cell_type": "code",
   "execution_count": 9,
   "metadata": {},
   "outputs": [
    {
     "data": {
      "text/plain": [
       "Trip_ID                         0.00\n",
       "Trip_Distance                   0.00\n",
       "Type_of_Cab                    15.06\n",
       "Customer_Since_Months           4.54\n",
       "Life_Style_Index               15.25\n",
       "Confidence_Life_Style_Index    15.25\n",
       "Destination_Type                0.00\n",
       "Customer_Rating                 0.00\n",
       "Cancellation_Last_1Month        0.00\n",
       "Var1                           53.54\n",
       "Var2                            0.00\n",
       "Var3                            0.00\n",
       "Gender                          0.00\n",
       "dtype: float64"
      ]
     },
     "execution_count": 9,
     "metadata": {},
     "output_type": "execute_result"
    }
   ],
   "source": [
    "### Percentage of Null value in test dataset\n",
    "test.isna().mean().round(4) * 100"
   ]
  },
  {
   "cell_type": "code",
   "execution_count": 10,
   "metadata": {},
   "outputs": [],
   "source": [
    "import matplotlib.pyplot as plt\n",
    "import seaborn as sns\n",
    "import pylab as pl"
   ]
  },
  {
   "cell_type": "code",
   "execution_count": 11,
   "metadata": {},
   "outputs": [
    {
     "data": {
      "image/png": "[encoded data removed]",
      "text/plain": [
       "<Figure size 432x288 with 1 Axes>"
      ]
     },
     "metadata": {
      "needs_background": "light"
     },
     "output_type": "display_data"
    }
   ],
   "source": [
    "sns.boxplot(train.Surge_Pricing_Type,train.Type_of_Cab)\n",
    "plt.show()"
   ]
  },
  {
   "cell_type": "code",
   "execution_count": 12,
   "metadata": {},
   "outputs": [
    {
     "data": {
      "image/png": "[encoded data removed]",
      "text/plain": [
       "<Figure size 432x288 with 1 Axes>"
      ]
     },
     "metadata": {
      "needs_background": "light"
     },
     "output_type": "display_data"
    }
   ],
   "source": [
    "sns.boxplot(train.Surge_Pricing_Type,train.Customer_Since_Months)\n",
    "plt.show()"
   ]
  },
  {
   "cell_type": "code",
   "execution_count": 13,
   "metadata": {},
   "outputs": [
    {
     "data": {
      "image/png": "[encoded data removed]",
      "text/plain": [
       "<Figure size 432x288 with 1 Axes>"
      ]
     },
     "metadata": {
      "needs_background": "light"
     },
     "output_type": "display_data"
    }
   ],
   "source": [
    "sns.boxplot(train.Surge_Pricing_Type,train.Confidence_Life_Style_Index)\n",
    "plt.show()"
   ]
  },
  {
   "cell_type": "code",
   "execution_count": 14,
   "metadata": {},
   "outputs": [
    {
     "data": {
      "image/png": "[encoded data removed]",
      "text/plain": [
       "<Figure size 1440x864 with 9 Axes>"
      ]
     },
     "metadata": {
      "needs_background": "light"
     },
     "output_type": "display_data"
    }
   ],
   "source": [
    "train.hist(bins=30, figsize=(20,12),layout=(3,3)) \n",
    "pl.suptitle(\"Histogram for each numeric input variable for training dataset\") \n",
    "plt.show()"
   ]
  },
  {
   "cell_type": "code",
   "execution_count": 15,
   "metadata": {},
   "outputs": [
    {
     "data": {
      "image/png": "[encoded data removed]",
      "text/plain": [
       "<Figure size 1440x864 with 9 Axes>"
      ]
     },
     "metadata": {
      "needs_background": "light"
     },
     "output_type": "display_data"
    }
   ],
   "source": [
    "test.hist(bins=30, figsize=(20,12),layout=(3,3)) \n",
    "pl.suptitle(\"Histogram for each numeric input variable for test dataset\") \n",
    "plt.show()"
   ]
  },
  {
   "cell_type": "code",
   "execution_count": 16,
   "metadata": {},
   "outputs": [
    {
     "data": {
      "text/plain": [
       "Trip_ID                          object\n",
       "Trip_Distance                   float64\n",
       "Type_of_Cab                      object\n",
       "Customer_Since_Months           float64\n",
       "Life_Style_Index                float64\n",
       "Confidence_Life_Style_Index      object\n",
       "Destination_Type                 object\n",
       "Customer_Rating                 float64\n",
       "Cancellation_Last_1Month          int64\n",
       "Var1                            float64\n",
       "Var2                              int64\n",
       "Var3                              int64\n",
       "Gender                           object\n",
       "Surge_Pricing_Type             category\n",
       "dtype: object"
      ]
     },
     "execution_count": 16,
     "metadata": {},
     "output_type": "execute_result"
    }
   ],
   "source": [
    "train.dtypes"
   ]
  },
  {
   "cell_type": "code",
   "execution_count": 17,
   "metadata": {},
   "outputs": [],
   "source": [
    "train.Type_of_Cab.fillna('M', inplace=True)\n",
    "train.Confidence_Life_Style_Index.fillna('M', inplace=True)\n",
    "\n",
    "test.Type_of_Cab.fillna('M', inplace=True)\n",
    "test.Confidence_Life_Style_Index.fillna('M', inplace=True)"
   ]
  },
  {
   "cell_type": "code",
   "execution_count": 18,
   "metadata": {},
   "outputs": [],
   "source": [
    "train.Customer_Since_Months.fillna(train.Customer_Since_Months.median(), inplace=True)\n",
    "train.Life_Style_Index.fillna(train.Life_Style_Index.mean(), inplace=True)\n",
    "\n",
    "test.Customer_Since_Months.fillna(test.Customer_Since_Months.median(), inplace=True)\n",
    "test.Life_Style_Index.fillna(test.Life_Style_Index.mean(), inplace=True)\n",
    "\n",
    "cols_to_drop=['Trip_ID','Var1']\n",
    "train.drop(cols_to_drop,axis=1, inplace=True)\n",
    "test.drop(cols_to_drop,axis=1, inplace=True)"
   ]
  },
  {
   "cell_type": "code",
   "execution_count": 19,
   "metadata": {},
   "outputs": [
    {
     "data": {
      "text/plain": [
       "((131662, 12), (87395, 11))"
      ]
     },
     "execution_count": 19,
     "metadata": {},
     "output_type": "execute_result"
    }
   ],
   "source": [
    "train.shape, test.shape"
   ]
  },
  {
   "cell_type": "code",
   "execution_count": 20,
   "metadata": {},
   "outputs": [
    {
     "name": "stdout",
     "output_type": "stream",
     "text": [
      "Total Features with NaN Values in train = 0\n",
      "Total Features with NaN Values in test = 0\n"
     ]
    }
   ],
   "source": [
    "print(\"Total Features with NaN Values in train = \" + str(train.columns[train.isnull().sum() != 0].size)) \n",
    "print(\"Total Features with NaN Values in test = \" + str(test.columns[test.isnull().sum() != 0].size))"
   ]
  },
  {
   "cell_type": "code",
   "execution_count": 21,
   "metadata": {},
   "outputs": [
    {
     "data": {
      "text/plain": [
       "(131662,)"
      ]
     },
     "execution_count": 21,
     "metadata": {},
     "output_type": "execute_result"
    }
   ],
   "source": [
    "y_trn=train.Surge_Pricing_Type\n",
    "train.drop('Surge_Pricing_Type', axis=1, inplace=True)\n",
    "y_trn.shape"
   ]
  },
  {
   "cell_type": "code",
   "execution_count": 22,
   "metadata": {},
   "outputs": [
    {
     "data": {
      "image/png": "[encoded data removed]",
      "text/plain": [
       "<Figure size 1440x864 with 9 Axes>"
      ]
     },
     "metadata": {
      "needs_background": "light"
     },
     "output_type": "display_data"
    }
   ],
   "source": [
    "train.hist(bins=30, figsize=(20,12),layout=(3,3)) \n",
    "pl.suptitle(\"Histogram for each numeric input variable for training dataset\") \n",
    "plt.show()"
   ]
  },
  {
   "cell_type": "code",
   "execution_count": 23,
   "metadata": {},
   "outputs": [],
   "source": [
    "train.Trip_Distance=train.Trip_Distance.apply(np.sqrt).apply(np.log10)\n",
    "test.Trip_Distance=test.Trip_Distance.apply(np.sqrt).apply(np.log10)"
   ]
  },
  {
   "cell_type": "code",
   "execution_count": 24,
   "metadata": {},
   "outputs": [],
   "source": [
    "train.Trip_Distance=train.Trip_Distance.apply(np.exp2)\n",
    "test.Trip_Distance=test.Trip_Distance.apply(np.exp2)"
   ]
  },
  {
   "cell_type": "code",
   "execution_count": null,
   "metadata": {},
   "outputs": [],
   "source": [
    "#from sklearn.preprocessing import LabelEncoder \n",
    "#  \n",
    "#le = LabelEncoder()\n",
    "#\n",
    "#train.Type_of_Cab=le.fit_transform(train.Type_of_Cab)\n",
    "#train.Confidence_Life_Style_Index=le.fit_transform(train.Confidence_Life_Style_Index)\n",
    "#train.Destination_Type=le.fit_transform(train.Destination_Type)\n",
    "#train.Gender=le.fit_transform(train.Gender)\n",
    "#\n",
    "#test.Type_of_Cab=le.fit_transform(test.Type_of_Cab)\n",
    "#test.Confidence_Life_Style_Index=le.fit_transform(test.Confidence_Life_Style_Index)\n",
    "#test.Destination_Type=le.fit_transform(test.Destination_Type)\n",
    "#test.Gender=le.fit_transform(test.Gender)\n"
   ]
  },
  {
   "cell_type": "code",
   "execution_count": null,
   "metadata": {},
   "outputs": [],
   "source": [
    "#from sklearn.preprocessing import OneHotEncoder \n",
    "# \n",
    "#onehotencoder = OneHotEncoder()\n",
    "#train=pd.DataFrame(onehotencoder.fit_transform(train).toarray())"
   ]
  },
  {
   "cell_type": "code",
   "execution_count": 25,
   "metadata": {},
   "outputs": [
    {
     "data": {
      "text/plain": [
       "((131662, 33), (87395, 33))"
      ]
     },
     "execution_count": 25,
     "metadata": {},
     "output_type": "execute_result"
    }
   ],
   "source": [
    "encoded_train=pd.get_dummies(train)\n",
    "encoded_test=pd.get_dummies(test)\n",
    "final_train, final_test = encoded_train.align(encoded_test, join='left', axis=1)\n",
    "final_train.shape, final_test.shape"
   ]
  },
  {
   "cell_type": "code",
   "execution_count": 26,
   "metadata": {},
   "outputs": [
    {
     "data": {
      "text/plain": [
       "((92163, 33), (92163,), (39499, 33), (39499,), (87395, 33))"
      ]
     },
     "execution_count": 26,
     "metadata": {},
     "output_type": "execute_result"
    }
   ],
   "source": [
    "from sklearn.model_selection import train_test_split\n",
    "X_tst = final_test\n",
    "X_train, X_valid, y_train, y_valid = train_test_split(final_train, y_trn,stratify=y_trn,\n",
    "                                                      test_size=0.3,random_state=41)\n",
    "\n",
    "X_train.shape,y_train.shape,X_valid.shape,y_valid.shape,X_tst.shape"
   ]
  },
  {
   "cell_type": "code",
   "execution_count": 34,
   "metadata": {},
   "outputs": [
    {
     "name": "stdout",
     "output_type": "stream",
     "text": [
      "Accuracy of Decision Tree classifier on training set: 0.72\n",
      "Accuracy of Decision Tree classifier on test set: 0.66\n"
     ]
    }
   ],
   "source": [
    "from sklearn.tree import DecisionTreeClassifier\n",
    "clf = DecisionTreeClassifier(random_state=8,min_samples_leaf=10, min_samples_split=3, \n",
    "                             max_features='sqrt').fit(X_train, y_train)\n",
    "print('Accuracy of Decision Tree classifier on training set: {:.2f}'\n",
    "     .format(clf.score(X_train, y_train)))\n",
    "print('Accuracy of Decision Tree classifier on test set: {:.2f}'\n",
    "     .format(clf.score(X_valid, y_valid)))\n"
   ]
  },
  {
   "cell_type": "code",
   "execution_count": 38,
   "metadata": {},
   "outputs": [
    {
     "name": "stdout",
     "output_type": "stream",
     "text": [
      "Accuracy of Random Forest classifier on training set: 0.76\n",
      "Accuracy of Random Forest classifier on test set: 0.70\n"
     ]
    }
   ],
   "source": [
    "from sklearn.ensemble import RandomForestClassifier\n",
    "rf = RandomForestClassifier(n_estimators=125,random_state=8,max_features = \"sqrt\",max_depth=None,bootstrap=False,\n",
    "                            min_samples_leaf=10,min_samples_split=3, n_jobs = -1)\n",
    "rf.fit(X_train, y_train)\n",
    "print('Accuracy of Random Forest classifier on training set: {:.2f}'\n",
    "     .format(rf.score(X_train, y_train)))\n",
    "print('Accuracy of Random Forest classifier on test set: {:.2f}'\n",
    "     .format(rf.score(X_valid, y_valid)))"
   ]
  },
  {
   "cell_type": "code",
   "execution_count": 39,
   "metadata": {},
   "outputs": [
    {
     "name": "stdout",
     "output_type": "stream",
     "text": [
      "16\n"
     ]
    },
    {
     "data": {
      "text/html": [
       "<div>\n",
       "<style scoped>\n",
       "    .dataframe tbody tr th:only-of-type {\n",
       "        vertical-align: middle;\n",
       "    }\n",
       "\n",
       "    .dataframe tbody tr th {\n",
       "        vertical-align: top;\n",
       "    }\n",
       "\n",
       "    .dataframe thead th {\n",
       "        text-align: right;\n",
       "    }\n",
       "</style>\n",
       "<table border=\"1\" class=\"dataframe\">\n",
       "  <thead>\n",
       "    <tr style=\"text-align: right;\">\n",
       "      <th></th>\n",
       "      <th>importance</th>\n",
       "    </tr>\n",
       "  </thead>\n",
       "  <tbody>\n",
       "    <tr>\n",
       "      <td>Type_of_Cab_A</td>\n",
       "      <td>2.113965e-01</td>\n",
       "    </tr>\n",
       "    <tr>\n",
       "      <td>Type_of_Cab_B</td>\n",
       "      <td>1.657351e-01</td>\n",
       "    </tr>\n",
       "    <tr>\n",
       "      <td>Type_of_Cab_D</td>\n",
       "      <td>1.403787e-01</td>\n",
       "    </tr>\n",
       "    <tr>\n",
       "      <td>Type_of_Cab_C</td>\n",
       "      <td>6.447472e-02</td>\n",
       "    </tr>\n",
       "    <tr>\n",
       "      <td>Trip_Distance</td>\n",
       "      <td>6.257735e-02</td>\n",
       "    </tr>\n",
       "    <tr>\n",
       "      <td>Type_of_Cab_E</td>\n",
       "      <td>5.742039e-02</td>\n",
       "    </tr>\n",
       "    <tr>\n",
       "      <td>Customer_Rating</td>\n",
       "      <td>4.912969e-02</td>\n",
       "    </tr>\n",
       "    <tr>\n",
       "      <td>Life_Style_Index</td>\n",
       "      <td>4.057012e-02</td>\n",
       "    </tr>\n",
       "    <tr>\n",
       "      <td>Cancellation_Last_1Month</td>\n",
       "      <td>3.571237e-02</td>\n",
       "    </tr>\n",
       "    <tr>\n",
       "      <td>Var3</td>\n",
       "      <td>3.189693e-02</td>\n",
       "    </tr>\n",
       "    <tr>\n",
       "      <td>Type_of_Cab_M</td>\n",
       "      <td>2.820558e-02</td>\n",
       "    </tr>\n",
       "    <tr>\n",
       "      <td>Var2</td>\n",
       "      <td>2.188750e-02</td>\n",
       "    </tr>\n",
       "    <tr>\n",
       "      <td>Customer_Since_Months</td>\n",
       "      <td>1.786939e-02</td>\n",
       "    </tr>\n",
       "    <tr>\n",
       "      <td>Confidence_Life_Style_Index_A</td>\n",
       "      <td>1.690722e-02</td>\n",
       "    </tr>\n",
       "    <tr>\n",
       "      <td>Confidence_Life_Style_Index_B</td>\n",
       "      <td>1.597318e-02</td>\n",
       "    </tr>\n",
       "    <tr>\n",
       "      <td>Destination_Type_B</td>\n",
       "      <td>1.285586e-02</td>\n",
       "    </tr>\n",
       "    <tr>\n",
       "      <td>Destination_Type_D</td>\n",
       "      <td>5.435163e-03</td>\n",
       "    </tr>\n",
       "    <tr>\n",
       "      <td>Confidence_Life_Style_Index_C</td>\n",
       "      <td>4.733746e-03</td>\n",
       "    </tr>\n",
       "    <tr>\n",
       "      <td>Destination_Type_A</td>\n",
       "      <td>4.381334e-03</td>\n",
       "    </tr>\n",
       "    <tr>\n",
       "      <td>Gender_Male</td>\n",
       "      <td>2.874077e-03</td>\n",
       "    </tr>\n",
       "    <tr>\n",
       "      <td>Gender_Female</td>\n",
       "      <td>2.841255e-03</td>\n",
       "    </tr>\n",
       "    <tr>\n",
       "      <td>Confidence_Life_Style_Index_M</td>\n",
       "      <td>2.170920e-03</td>\n",
       "    </tr>\n",
       "    <tr>\n",
       "      <td>Destination_Type_C</td>\n",
       "      <td>1.295107e-03</td>\n",
       "    </tr>\n",
       "    <tr>\n",
       "      <td>Destination_Type_F</td>\n",
       "      <td>8.696396e-04</td>\n",
       "    </tr>\n",
       "    <tr>\n",
       "      <td>Destination_Type_E</td>\n",
       "      <td>6.989089e-04</td>\n",
       "    </tr>\n",
       "    <tr>\n",
       "      <td>Destination_Type_G</td>\n",
       "      <td>5.692320e-04</td>\n",
       "    </tr>\n",
       "    <tr>\n",
       "      <td>Destination_Type_I</td>\n",
       "      <td>4.842320e-04</td>\n",
       "    </tr>\n",
       "    <tr>\n",
       "      <td>Destination_Type_H</td>\n",
       "      <td>3.079395e-04</td>\n",
       "    </tr>\n",
       "    <tr>\n",
       "      <td>Destination_Type_L</td>\n",
       "      <td>1.409812e-04</td>\n",
       "    </tr>\n",
       "    <tr>\n",
       "      <td>Destination_Type_J</td>\n",
       "      <td>1.328244e-04</td>\n",
       "    </tr>\n",
       "    <tr>\n",
       "      <td>Destination_Type_K</td>\n",
       "      <td>7.037304e-05</td>\n",
       "    </tr>\n",
       "    <tr>\n",
       "      <td>Destination_Type_N</td>\n",
       "      <td>2.887006e-06</td>\n",
       "    </tr>\n",
       "    <tr>\n",
       "      <td>Destination_Type_M</td>\n",
       "      <td>8.290060e-07</td>\n",
       "    </tr>\n",
       "  </tbody>\n",
       "</table>\n",
       "</div>"
      ],
      "text/plain": [
       "                                 importance\n",
       "Type_of_Cab_A                  2.113965e-01\n",
       "Type_of_Cab_B                  1.657351e-01\n",
       "Type_of_Cab_D                  1.403787e-01\n",
       "Type_of_Cab_C                  6.447472e-02\n",
       "Trip_Distance                  6.257735e-02\n",
       "Type_of_Cab_E                  5.742039e-02\n",
       "Customer_Rating                4.912969e-02\n",
       "Life_Style_Index               4.057012e-02\n",
       "Cancellation_Last_1Month       3.571237e-02\n",
       "Var3                           3.189693e-02\n",
       "Type_of_Cab_M                  2.820558e-02\n",
       "Var2                           2.188750e-02\n",
       "Customer_Since_Months          1.786939e-02\n",
       "Confidence_Life_Style_Index_A  1.690722e-02\n",
       "Confidence_Life_Style_Index_B  1.597318e-02\n",
       "Destination_Type_B             1.285586e-02\n",
       "Destination_Type_D             5.435163e-03\n",
       "Confidence_Life_Style_Index_C  4.733746e-03\n",
       "Destination_Type_A             4.381334e-03\n",
       "Gender_Male                    2.874077e-03\n",
       "Gender_Female                  2.841255e-03\n",
       "Confidence_Life_Style_Index_M  2.170920e-03\n",
       "Destination_Type_C             1.295107e-03\n",
       "Destination_Type_F             8.696396e-04\n",
       "Destination_Type_E             6.989089e-04\n",
       "Destination_Type_G             5.692320e-04\n",
       "Destination_Type_I             4.842320e-04\n",
       "Destination_Type_H             3.079395e-04\n",
       "Destination_Type_L             1.409812e-04\n",
       "Destination_Type_J             1.328244e-04\n",
       "Destination_Type_K             7.037304e-05\n",
       "Destination_Type_N             2.887006e-06\n",
       "Destination_Type_M             8.290060e-07"
      ]
     },
     "execution_count": 39,
     "metadata": {},
     "output_type": "execute_result"
    }
   ],
   "source": [
    "feature_importances = pd.DataFrame(rf.feature_importances_,\n",
    "                                   index = X_train.columns,\n",
    "                                    columns=['importance']).sort_values('importance',ascending=False)\n",
    "imp_feature=feature_importances[feature_importances['importance']>=0.01].T.columns\n",
    "print(len(imp_feature))\n",
    "feature_importances"
   ]
  },
  {
   "cell_type": "code",
   "execution_count": 40,
   "metadata": {},
   "outputs": [
    {
     "name": "stdout",
     "output_type": "stream",
     "text": [
      "Accuracy of Random Forest classifier on training set: 0.77\n",
      "Accuracy of Random Forest classifier on test set: 0.69\n"
     ]
    }
   ],
   "source": [
    "from sklearn.ensemble import RandomForestClassifier\n",
    "rfi = RandomForestClassifier(n_estimators=87,random_state=8,max_features = \"sqrt\",max_depth=30,bootstrap=True,\n",
    "                            min_samples_leaf=8,min_samples_split=5, oob_score = True,n_jobs = -1)\n",
    "rfi.fit(X_train[imp_feature], y_train)\n",
    "print('Accuracy of Random Forest classifier on training set: {:.2f}'\n",
    "     .format(rfi.score(X_train[imp_feature], y_train)))\n",
    "print('Accuracy of Random Forest classifier on test set: {:.2f}'\n",
    "     .format(rfi.score(X_valid[imp_feature], y_valid)))"
   ]
  },
  {
   "cell_type": "code",
   "execution_count": 41,
   "metadata": {},
   "outputs": [
    {
     "name": "stdout",
     "output_type": "stream",
     "text": [
      "Accuracy of K-NN classifier on training set: 0.70\n",
      "Accuracy of K-NN classifier on test set: 0.66\n"
     ]
    }
   ],
   "source": [
    "from sklearn.neighbors import KNeighborsClassifier\n",
    "#knn = KNeighborsClassifier(leaf_size=30,n_jobs=-1,n_neighbors=5,weights='distance',\n",
    "#                           algorithm='auto',metric='minkowski',p=2)\n",
    "knn = KNeighborsClassifier(leaf_size=30,n_jobs=-1,n_neighbors=13,weights='uniform',algorithm='auto',\n",
    "                           metric='minkowski',p=1)\n",
    "knn.fit(X_train[imp_feature], y_train)\n",
    "print('Accuracy of K-NN classifier on training set: {:.2f}'\n",
    "     .format(knn.score(X_train[imp_feature], y_train)))\n",
    "print('Accuracy of K-NN classifier on test set: {:.2f}'\n",
    "     .format(knn.score(X_valid[imp_feature], y_valid)))"
   ]
  },
  {
   "cell_type": "code",
   "execution_count": null,
   "metadata": {},
   "outputs": [],
   "source": [
    "from sklearn.model_selection import RandomizedSearchCV\n",
    "# Number of trees in random forest\n",
    "n_estimators = [int(x) for x in np.linspace(start = 50, stop = 200, num = 5)]\n",
    "# Number of features to consider at every split\n",
    "max_features = ['auto', 'sqrt']\n",
    "# Maximum number of levels in tree\n",
    "max_depth = [int(x) for x in np.linspace(10, 100, num = 10)]\n",
    "max_depth.append(None)\n",
    "# Minimum number of samples required to split a node\n",
    "min_samples_split = [2,5, 10, 15]\n",
    "# Minimum number of samples required at each leaf node\n",
    "min_samples_leaf = [2, 4, 6, 8]\n",
    "# Method of selecting samples for training each tree\n",
    "bootstrap = [True, False]\n",
    "# Create the random grid\n",
    "random_grid = {'n_estimators': n_estimators,\n",
    "               'max_features': max_features,\n",
    "               'max_depth': max_depth,\n",
    "               'min_samples_split': min_samples_split,\n",
    "               'min_samples_leaf': min_samples_leaf,\n",
    "               'bootstrap': bootstrap}\n",
    "print(random_grid)"
   ]
  },
  {
   "cell_type": "code",
   "execution_count": null,
   "metadata": {},
   "outputs": [],
   "source": [
    "rf = RandomForestClassifier()\n",
    "# Random search of parameters, using 3 fold cross validation, \n",
    "# search across 100 different combinations, and use all available cores\n",
    "rf_random = RandomizedSearchCV(estimator = rf, param_distributions = random_grid, n_iter = 10, cv = 3, verbose=2, random_state=42, n_jobs = -1)\n",
    "# Fit the random search model\n",
    "rf_random.fit(X_train[imp_feature], y_train)"
   ]
  },
  {
   "cell_type": "code",
   "execution_count": null,
   "metadata": {},
   "outputs": [],
   "source": [
    "rf_random.best_params_"
   ]
  },
  {
   "cell_type": "code",
   "execution_count": 42,
   "metadata": {},
   "outputs": [
    {
     "name": "stdout",
     "output_type": "stream",
     "text": [
      "Checking high correlation between all feature in train dataset:\n",
      "Variable with high correlation are : [('Var2', 'Var3'), ('Destination_Type_A', 'Destination_Type_B'), ('Gender_Female', 'Gender_Male')]\n"
     ]
    }
   ],
   "source": [
    "print('Checking high correlation between all feature in train dataset:')\n",
    "feature_names=[i for i in final_train.columns if final_train[i].dtypes != 'object']\n",
    "X = final_train[feature_names]\n",
    "corr_matrix = X.corr().abs()\n",
    "high_corr_var=np.where(corr_matrix>0.5)\n",
    "corr_var=[(corr_matrix.columns[x],corr_matrix.columns[y]) for x,y in zip(*high_corr_var) if x!=y and x<y]\n",
    "print('Variable with high correlation are :',corr_var)"
   ]
  },
  {
   "cell_type": "code",
   "execution_count": 43,
   "metadata": {},
   "outputs": [],
   "source": [
    "import warnings\n",
    "warnings.filterwarnings('ignore')\n",
    "warnings.filterwarnings('ignore', category=DeprecationWarning)\n",
    "from xgboost import XGBClassifier"
   ]
  },
  {
   "cell_type": "code",
   "execution_count": 44,
   "metadata": {},
   "outputs": [],
   "source": [
    "XGBModel = XGBClassifier(booster='gbtree', n_estimators=200,max_depth=10,min_child_weight=2,subsample=0.8,\n",
    "                         colsample_bytree=0.8,\n",
    "                        gamma=0, eval_metric='auc', eta=0.01, seed=123, objective= 'reg:logistic')\n",
    "XGBModel.fit(X_train[imp_feature], y_train , verbose=False)\n",
    "\n",
    "# Get the mean absolute error on the validation data :\n",
    "XGBpredictions = XGBModel.predict(X_valid[imp_feature])"
   ]
  },
  {
   "cell_type": "code",
   "execution_count": 45,
   "metadata": {},
   "outputs": [
    {
     "name": "stdout",
     "output_type": "stream",
     "text": [
      "Accuracy of XGB classifier on training set: 0.82\n",
      "Accuracy of XGB classifier on test set: 0.70\n"
     ]
    }
   ],
   "source": [
    "print('Accuracy of XGB classifier on training set: {:.2f}'\n",
    "     .format(XGBModel.score(X_train[imp_feature], y_train)))\n",
    "print('Accuracy of XGB classifier on test set: {:.2f}'\n",
    "     .format(XGBModel.score(X_valid[imp_feature], y_valid)))"
   ]
  },
  {
   "cell_type": "code",
   "execution_count": 46,
   "metadata": {},
   "outputs": [],
   "source": [
    "pred=XGBModel.predict(X_tst[imp_feature])\n",
    "sub['Surge_Pricing_Type'] = pred\n",
    "sub.to_csv('submission.csv', index=False)"
   ]
  },
  {
   "cell_type": "code",
   "execution_count": 47,
   "metadata": {},
   "outputs": [],
   "source": [
    "from sklearn.preprocessing import StandardScaler\n",
    "from sklearn.model_selection import train_test_split\n",
    "\n",
    "X_tst_scaled=StandardScaler().fit_transform(final_test)\n",
    "X_tst_scaled=pd.DataFrame(X_tst_scaled,columns=[final_test.columns])\n",
    "X_trn_scaled=StandardScaler().fit_transform(final_train)\n",
    "X_trn_scaled=pd.DataFrame(X_trn_scaled,columns=[final_train.columns])\n",
    "X_train_scaled, X_valid_scaled, y_train_scaled, y_valid_scaled = train_test_split(X_trn_scaled, \n",
    "                                                                                  y_trn,stratify=y_trn,test_size=0.3,\n",
    "                                                                                  random_state=41)"
   ]
  },
  {
   "cell_type": "code",
   "execution_count": null,
   "metadata": {},
   "outputs": [],
   "source": [
    "#from sklearn.model_selection import RandomizedSearchCV\n",
    "#\n",
    "#n_estimators = [int(x) for x in np.linspace(start = 50, stop = 300, num = 10)]\n",
    "#max_depth = [int(x) for x in np.linspace(2, 20, num = 10)]\n",
    "#min_child_weight=[int(x) for x in np.linspace(0, 10, num = 11)]\n",
    "#subsample=[x.round(2) for x in np.linspace(.1, 1, num = 10)]\n",
    "#colsample_bytree=[x.round(2) for x in np.linspace(.1, 1, num = 10)]\n",
    "#gamma = [x.round(3) for x in np.linspace(.01, .3, num = 10)]\n",
    "#eta=[x.round(3) for x in np.linspace(.01, .2, num = 10)]\n",
    "#eval_metric='auc'\n",
    "#seed=[8,41,123]\n",
    "#objective= 'reg:logistic'\n",
    "#booster='gbtree'\n",
    "## Create the random grid\n",
    "#random_grid = {'n_estimators': n_estimators,\n",
    "#               'max_depth': max_depth,\n",
    "#               'min_child_weight':min_child_weight,\n",
    "#               'subsample': subsample,\n",
    "#               'colsample_bytree': colsample_bytree,\n",
    "#               'gamma': gamma,\n",
    "#               'eta': eta,\n",
    "#               'seed':seed}\n",
    "#print(random_grid)"
   ]
  },
  {
   "cell_type": "code",
   "execution_count": null,
   "metadata": {},
   "outputs": [],
   "source": [
    "#xgb = XGBClassifier(eval_metric='auc',booster='gbtree',objective='reg:logistic')\n",
    "## Random search of parameters, using 3 fold cross validation, \n",
    "#xgb_random = RandomizedSearchCV(estimator = xgb, param_distributions = random_grid, n_iter = 10, cv = 3, random_state=42, n_jobs = -1)\n",
    "## Fit the random search model\n",
    "#xgb_random.fit(X_train[imp_feature], y_train)"
   ]
  },
  {
   "cell_type": "code",
   "execution_count": null,
   "metadata": {},
   "outputs": [],
   "source": [
    "#xgb_random.best_params_"
   ]
  },
  {
   "cell_type": "code",
   "execution_count": 59,
   "metadata": {},
   "outputs": [
    {
     "name": "stdout",
     "output_type": "stream",
     "text": [
      "Accuracy of XGB classifier on training set: 0.76\n",
      "Accuracy of XGB classifier on test set: 0.70\n"
     ]
    }
   ],
   "source": [
    "XGBModel1 = XGBClassifier(booster='gbtree', n_estimators=150,max_depth=9,min_child_weight=2,subsample=0.5,\n",
    "                         colsample_bytree=0.5,\n",
    "                        gamma=0, eval_metric='merror', eta=0.01, seed=41, objective= 'reg:logistic')\n",
    "\n",
    "XGBModel1.fit(X_train_scaled, y_train , verbose=False)\n",
    "print('Accuracy of XGB classifier on training set: {:.2f}'\n",
    "     .format(XGBModel1.score(X_train_scaled, y_train)))\n",
    "print('Accuracy of XGB classifier on test set: {:.2f}'\n",
    "     .format(XGBModel1.score(X_valid_scaled, y_valid)))"
   ]
  },
  {
   "cell_type": "code",
   "execution_count": 53,
   "metadata": {},
   "outputs": [
    {
     "name": "stdout",
     "output_type": "stream",
     "text": [
      "Accuracy of K-NN classifier on training set: 0.71\n",
      "Accuracy of K-NN classifier on test set: 0.68\n"
     ]
    }
   ],
   "source": [
    "#from sklearn.neighbors import KNeighborsClassifier\n",
    "##knn = KNeighborsClassifier(leaf_size=30,n_jobs=-1,n_neighbors=5,weights='distance',\n",
    "##                           algorithm='auto',metric='minkowski',p=2)\n",
    "#knns = KNeighborsClassifier(leaf_size=8,n_jobs=-1,n_neighbors=13,weights='uniform',algorithm='auto',\n",
    "#                           metric='minkowski',p=2)\n",
    "#knns.fit(X_train_scaled, y_train)\n",
    "#print('Accuracy of K-NN classifier on training set: {:.2f}'\n",
    "#     .format(knns.score(X_train_scaled, y_train)))\n",
    "#print('Accuracy of K-NN classifier on test set: {:.2f}'\n",
    "#     .format(knns.score(X_valid_scaled, y_valid)))"
   ]
  },
  {
   "cell_type": "code",
   "execution_count": 60,
   "metadata": {},
   "outputs": [],
   "source": [
    "pred=XGBModel1.predict(X_tst_scaled)\n",
    "sub['Surge_Pricing_Type'] = pred\n",
    "sub.to_csv('submission.csv', index=False)"
   ]
  },
  {
   "cell_type": "code",
   "execution_count": null,
   "metadata": {},
   "outputs": [],
   "source": []
  }
 ],
 "metadata": {
  "kernelspec": {
   "display_name": "Python 3",
   "language": "python",
   "name": "python3"
  },
  "language_info": {
   "codemirror_mode": {
    "name": "ipython",
    "version": 3
   },
   "file_extension": ".py",
   "mimetype": "text/x-python",
   "name": "python",
   "nbconvert_exporter": "python",
   "pygments_lexer": "ipython3",
   "version": "3.7.4"
  }
 },
 "nbformat": 4,
 "nbformat_minor": 2
}
